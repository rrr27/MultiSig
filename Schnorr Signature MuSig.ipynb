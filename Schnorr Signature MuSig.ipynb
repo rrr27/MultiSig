{
 "cells": [
  {
   "cell_type": "code",
   "execution_count": 83,
   "metadata": {},
   "outputs": [],
   "source": [
    "import ecc\n",
    "from ecc import PrivateKey,S256Point\n",
    "from random import randint\n",
    "import hashlib\n",
    "from helper import little_endian_to_int\n",
    "\n",
    "def double_sha256(s):\n",
    "    return hashlib.sha256(hashlib.sha256(s).digest()).digest()"
   ]
  },
  {
   "cell_type": "code",
   "execution_count": 84,
   "metadata": {},
   "outputs": [],
   "source": [
    "#z = randint(0, 2**256).to_bytes(256//8, 'little')\n",
    "my_str = \"Rima Rana Seth Lee\"\n",
    "z = str.encode(my_str)"
   ]
  },
  {
   "cell_type": "code",
   "execution_count": 85,
   "metadata": {},
   "outputs": [
    {
     "name": "stdout",
     "output_type": "stream",
     "text": [
      "b'Rima Rana Seth Lee'\n"
     ]
    }
   ],
   "source": [
    "print(z)"
   ]
  },
  {
   "cell_type": "code",
   "execution_count": 86,
   "metadata": {},
   "outputs": [
    {
     "name": "stdout",
     "output_type": "stream",
     "text": [
      "52696d612052616e612053657468204c6565\n"
     ]
    }
   ],
   "source": [
    "print(z.hex())"
   ]
  },
  {
   "cell_type": "code",
   "execution_count": 5,
   "metadata": {},
   "outputs": [],
   "source": [
    "# hash\n",
    "def H(*args):\n",
    "    return double_sha256(b''.join(args))\n",
    "\n",
    "# int(hash)\n",
    "def HI(*args):\n",
    "    return little_endian_to_int(H(*args))\n",
    "\n",
    "#Schnorr\n",
    "def sign(pk, z):\n",
    "        k = randint(0, 2**256) # nonce\n",
    "        R = k * ecc.G          # nonce point\n",
    "        s = (k + HI(R.sec(), z) * pk.secret)%ecc.N\n",
    "        return R, s\n",
    "\n",
    "def verify(R, s, z):\n",
    "        Q = s * ecc.G - HI(R.sec(),z) * point\n",
    "        return Q == R\n"
   ]
  },
  {
   "cell_type": "code",
   "execution_count": 8,
   "metadata": {},
   "outputs": [],
   "source": [
    "pk = PrivateKey(randint(0, 2**256))\n",
    "point = pk.point # public point"
   ]
  },
  {
   "cell_type": "code",
   "execution_count": 9,
   "metadata": {},
   "outputs": [
    {
     "name": "stdout",
     "output_type": "stream",
     "text": [
      "True\n"
     ]
    }
   ],
   "source": [
    "R, s = sign(pk, z)\n",
    "print(verify(R,s,z))\n",
    "assert verify(R, s, z)"
   ]
  },
  {
   "cell_type": "code",
   "execution_count": 10,
   "metadata": {},
   "outputs": [],
   "source": [
    "#Ns is number of inputs, for our problem its 3\n",
    "Ns = 3\n",
    "\n",
    "pks = [PrivateKey(randint(0, 2**256)) for _ in range(Ns)]\n",
    "points = [pk.point for pk in pks]"
   ]
  },
  {
   "cell_type": "code",
   "execution_count": 11,
   "metadata": {},
   "outputs": [],
   "source": [
    "#BN\n",
    "def sign(pks, z):\n",
    "        ks = [randint(0, 2**256) for _ in range(len(pks))]\n",
    "\n",
    "        L = H(*[p.sec() for p in points])\n",
    "        Rs = [k*ecc.G for k in ks]\n",
    "        R = sum(Rs, ecc.S256Point(None,None))\n",
    "        cs = [HI(L,p.sec(),R.sec(),z) for p in points]\n",
    "        s = sum(k + c*pk.secret for k,c,pk in zip(ks,cs,pks))%ecc.N\n",
    "        return R, s\n",
    "\n",
    "def verify(R, s, z):\n",
    "        L = H(*[p.sec() for p in points])\n",
    "        cs = [HI(L,p.sec(),R.sec(),z) for p in points]\n",
    "        return R == s*ecc.G - sum((c*p for c,p in zip(cs, points)),ecc.S256Point(None,None))"
   ]
  },
  {
   "cell_type": "code",
   "execution_count": 12,
   "metadata": {},
   "outputs": [
    {
     "name": "stdout",
     "output_type": "stream",
     "text": [
      "True\n"
     ]
    }
   ],
   "source": [
    "R, s = sign(pks, z)\n",
    "print(verify(R,s,z))\n",
    "assert verify(R, s, z)"
   ]
  },
  {
   "cell_type": "code",
   "execution_count": 62,
   "metadata": {},
   "outputs": [],
   "source": [
    "#Mu\n",
    "#For signing we will provide, aggregate Public key P and Signature (R,s)\n",
    "def sign(pks, z):\n",
    "        L = H(*[p.sec() for p in points])\n",
    "        ks = [randint(0, 2**256) for _ in range(len(pks))]\n",
    "        Rs = [k*ecc.G for k in ks]\n",
    "        R = sum(Rs, ecc.S256Point(None,None))\n",
    "        # aggregate key\n",
    "        P = sum((HI(L, p.sec())*p for p in points), ecc.S256Point(None,None))\n",
    "        cs = [HI(R.sec(),z)*HI(L,p.sec()) for p in points]\n",
    "        s = sum([k+c*pk.secret for k,c,pk in zip(ks,cs,pks)]) % ecc.N\n",
    "        return R, s, P\n",
    "\n",
    "#We verify by using all three\n",
    "def verify(R, s, z, P):\n",
    "        return R == s*ecc.G - HI(R.sec(),z)*P\n",
    "\n",
    "   "
   ]
  },
  {
   "cell_type": "code",
   "execution_count": 80,
   "metadata": {},
   "outputs": [
    {
     "name": "stdout",
     "output_type": "stream",
     "text": [
      "0306e1653a8253ff2bebf00a200998c2bfbf1233c9cd2c9c1b89280f585f306fd0\n",
      "###################\n",
      "100122388257161252664283364891666006783378674313668849586148163489512916853636\n",
      "###################\n",
      "034b4619f4635c71e2e5f58a9c9c704df9fe7219ac1f727c55ced674a936e293b5\n"
     ]
    }
   ],
   "source": [
    "R, s, P = sign(pks, z)\n",
    "print(R.sec().hex())\n",
    "print(\"###################\")\n",
    "print(s)\n",
    "print(\"###################\")\n",
    "print(P.sec().hex())"
   ]
  },
  {
   "cell_type": "code",
   "execution_count": 82,
   "metadata": {},
   "outputs": [
    {
     "name": "stdout",
     "output_type": "stream",
     "text": [
      "False\n"
     ]
    }
   ],
   "source": [
    "R_sec = bytes.fromhex('0306e1653a8253ff2bebf00a200998c2bfbf1233c9cd2c9c1b89280f585f306fd5')\n",
    "# parse the sec format to get the public key\n",
    "R_point = S256Point.parse(R_sec)\n",
    "s_n = bytes.fromhex('100122388257161252664283364891666006783378674313668849586148163489512916853636')\n",
    "P_sec = bytes.fromhex('034b4619f4635c71e2e5f58a9c9c704df9fe7219ac1f727c55ced674a936e293b5')\n",
    "P_point = S256Point.parse(P_sec)\n",
    "\n",
    "print(verify(R_point, s, z, P_point))\n",
    "#assert verify(R, s, z, P)"
   ]
  },
  {
   "cell_type": "code",
   "execution_count": null,
   "metadata": {},
   "outputs": [],
   "source": []
  }
 ],
 "metadata": {
  "kernelspec": {
   "display_name": "python3.5",
   "language": "python",
   "name": "python3.5"
  },
  "language_info": {
   "codemirror_mode": {
    "name": "ipython",
    "version": 3
   },
   "file_extension": ".py",
   "mimetype": "text/x-python",
   "name": "python",
   "nbconvert_exporter": "python",
   "pygments_lexer": "ipython3",
   "version": "3.5.5"
  }
 },
 "nbformat": 4,
 "nbformat_minor": 2
}
